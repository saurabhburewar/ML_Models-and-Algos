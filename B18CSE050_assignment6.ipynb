{
  "nbformat": 4,
  "nbformat_minor": 0,
  "metadata": {
    "colab": {
      "name": "B18CSE050_assignment6.ipynb",
      "provenance": [],
      "collapsed_sections": []
    },
    "kernelspec": {
      "name": "python3",
      "display_name": "Python 3"
    },
    "language_info": {
      "name": "python"
    },
    "accelerator": "GPU"
  },
  "cells": [
    {
      "cell_type": "code",
      "metadata": {
        "id": "9W-yQzA2nUGP"
      },
      "source": [
        "import torch\n",
        "import torch.nn as nn\n",
        "import torch.nn.functional as F\n",
        "import torchvision\n",
        "import torchvision.transforms as transforms\n",
        "import pandas as pd\n",
        "import numpy as np\n",
        "from tqdm import tqdm\n",
        "from sklearn.model_selection import StratifiedKFold\n",
        "from sklearn.metrics import accuracy_score\n",
        "from sklearn.model_selection import train_test_split\n",
        "import matplotlib.pyplot as plt"
      ],
      "execution_count": null,
      "outputs": []
    },
    {
      "cell_type": "code",
      "metadata": {
        "id": "VY9eG-uA3KYx"
      },
      "source": [
        "class Custom_NN(nn.Module):\n",
        "  def __init__(self, in_features, out_features, bias=True, p=0.5):\n",
        "    super().__init__()\n",
        "    self.linear = nn.Linear(in_features, out_features, bias)\n",
        "    self.relu = nn.ReLU()\n",
        "    self.drop = nn.Dropout(p)\n",
        "  def forward(self, X):\n",
        "    X = self.linear(X)\n",
        "    X = self.relu(X)\n",
        "    X = self.drop(X)\n",
        "    return X"
      ],
      "execution_count": null,
      "outputs": []
    },
    {
      "cell_type": "code",
      "metadata": {
        "id": "JDsiPZL4mMCd"
      },
      "source": [
        "NN_class = nn.Sequential(Custom_NN(5, 32), nn.Linear(32, 1))"
      ],
      "execution_count": null,
      "outputs": []
    },
    {
      "cell_type": "code",
      "metadata": {
        "id": "gNjSTO6Wn8g-"
      },
      "source": [
        "train_set = pd.read_csv('https://raw.githubusercontent.com/saurabhburewar/ML_Datasets/main/titanic_dataset/train.csv')\n",
        "test_set = pd.read_csv('https://raw.githubusercontent.com/saurabhburewar/ML_Datasets/main/titanic_dataset/test.csv')\n",
        "\n",
        "train_set.drop(['Cabin'], axis=1, inplace=True)\n",
        "train_set.dropna(how='any', inplace=True)\n",
        "train_set['sex_factor'] = pd.factorize(train_set.Sex)[0]\n",
        "train_set['em_factor'] = pd.factorize(train_set.Embarked)[0]\n",
        "\n",
        "X_train = train_set[['Pclass', 'Age', 'Fare', 'sex_factor', 'em_factor']]\n",
        "Y_train = train_set['Survived']\n",
        "\n",
        "X_train = X_train.values\n",
        "Y_train = Y_train.values\n",
        "\n",
        "test_set.drop(['Cabin'], axis=1, inplace=True)\n",
        "test_set.dropna(how='any', inplace=True)\n",
        "test_set['sex_factor'] = pd.factorize(test_set.Sex)[0]\n",
        "test_set['em_factor'] = pd.factorize(test_set.Embarked)[0]\n",
        "\n",
        "X_test = test_set[['Pclass', 'Age', 'Fare', 'sex_factor', 'em_factor']]\n",
        "\n",
        "X_test = X_test.values\n",
        "\n",
        "batch_size = 32\n",
        "iterations = 100"
      ],
      "execution_count": null,
      "outputs": []
    },
    {
      "cell_type": "code",
      "metadata": {
        "id": "H_d8f3uz-KX5"
      },
      "source": [
        "# dataset = pd.read_csv('https://raw.githubusercontent.com/saurabhburewar/ML_Datasets/main/Iris_dataset.csv')\n",
        "\n",
        "# X = dataset.drop(['species'], axis=1)\n",
        "# Y = dataset['species']\n",
        "\n",
        "# X_train, X_test, Y_train, Y_test = train_test_split(X, Y, test_size=0.3, random_state=123)\n",
        "\n",
        "# X_train = X_train.values\n",
        "# Y_train = Y_train.values\n",
        "\n",
        "# X_test = X_test.values\n",
        "\n",
        "# batch_size = 32\n",
        "# iterations = 10"
      ],
      "execution_count": null,
      "outputs": []
    },
    {
      "cell_type": "code",
      "metadata": {
        "id": "MynJD1eDee3Q"
      },
      "source": [
        "splits = list(StratifiedKFold(n_splits=5, shuffle=True).split(X_train, Y_train))"
      ],
      "execution_count": null,
      "outputs": []
    },
    {
      "cell_type": "code",
      "metadata": {
        "id": "QW4_tp7Oedfa"
      },
      "source": [
        "train_preds = np.zeros((len(X_train)))\n",
        "test_preds = np.zeros((len(X_test)))\n",
        "\n",
        "\n",
        "X_test_tensor = torch.tensor(X_test, dtype=torch.float32).cuda()\n",
        "test = torch.utils.data.TensorDataset(X_test_tensor)\n",
        "testloader = torch.utils.data.DataLoader(test, batch_size=batch_size, shuffle=False)"
      ],
      "execution_count": null,
      "outputs": []
    },
    {
      "cell_type": "code",
      "metadata": {
        "id": "2gyt8HtokLL6",
        "colab": {
          "base_uri": "https://localhost:8080/"
        },
        "outputId": "6b50d388-7753-4126-ea65-bae3ad1103e3"
      },
      "source": [
        "for i_fold, (train_idx, valid_idx) in enumerate(splits):\n",
        "  X_train_fold = torch.tensor(X_train[train_idx], dtype=torch.float32).cuda()\n",
        "  Y_train_fold = torch.tensor(Y_train[train_idx], dtype=torch.float32).unsqueeze(1).cuda()\n",
        "  X_val_fold = torch.tensor(X_train[valid_idx], dtype=torch.float32).cuda()\n",
        "  Y_val_fold = torch.tensor(Y_train[valid_idx], dtype=torch.float32).unsqueeze(1).cuda()\n",
        "\n",
        "  train = torch.utils.data.TensorDataset(X_train_fold, Y_train_fold)\n",
        "  valid = torch.utils.data.TensorDataset(X_val_fold, Y_val_fold)\n",
        "\n",
        "  trainloader = torch.utils.data.DataLoader(train, batch_size=batch_size, shuffle=True)\n",
        "  validloader = torch.utils.data.DataLoader(valid, batch_size=batch_size, shuffle=False)\n",
        "\n",
        "  model = NN_class\n",
        "  NN_class.cuda()\n",
        "  loss = torch.nn.BCEWithLogitsLoss(reduction=\"sum\")\n",
        "  op = torch.optim.Adam(model.parameters())\n",
        "\n",
        "  print(\"Fold - \", i_fold+1)\n",
        "  \n",
        "  for itr in range(iterations):\n",
        "    model.train()\n",
        "    avg_loss = 0\n",
        "\n",
        "    for x_batch, y_batch in tqdm(trainloader, disable=True):\n",
        "      Y_pred = model(x_batch)\n",
        "      loss_batch = loss(Y_pred, y_batch)\n",
        "      op.zero_grad()\n",
        "      loss_batch.backward()\n",
        "      op.step()\n",
        "      avg_loss += loss_batch.item() / len(trainloader)\n",
        "\n",
        "    model.eval()\n",
        "    valid_pred_fold = np.zeros(X_val_fold.size(0))\n",
        "    test_pred_fold = np.zeros(len(X_test))\n",
        "    avg_val_loss = 0\n",
        "    for i, (x_batch, y_batch) in enumerate(validloader):\n",
        "      Y_pred = model(x_batch).detach()\n",
        "      avg_val_loss += loss(Y_pred, y_batch).item() / len(validloader)\n",
        "      valid_pred_fold[i * batch_size: (i+1) * batch_size] = (1 / (1+np.exp(-(Y_pred.cpu().numpy()))))[:, 0]\n",
        "\n",
        "    print(\"Iteration {} \\t loss={:.3f} \\t val_loss={:.3f} \".format(itr+1, avg_loss, avg_val_loss))\n",
        "\n",
        "  for i, (x_batch,) in enumerate(testloader):\n",
        "    Y_pred = model(x_batch).detach()\n",
        "    test_pred_fold[i * batch_size: (i+1) * batch_size] = (1 / (1+np.exp(-(Y_pred.cpu().numpy()))))[:, 0]\n",
        "\n",
        "  train_preds[valid_idx] = valid_pred_fold\n",
        "  test_preds += test_pred_fold / len(splits)"
      ],
      "execution_count": null,
      "outputs": [
        {
          "output_type": "stream",
          "name": "stdout",
          "text": [
            "Fold -  1\n",
            "Iteration 1 \t loss=86.310 \t val_loss=23.736 \n",
            "Iteration 2 \t loss=69.543 \t val_loss=20.769 \n",
            "Iteration 3 \t loss=58.701 \t val_loss=22.491 \n",
            "Iteration 4 \t loss=53.472 \t val_loss=24.759 \n",
            "Iteration 5 \t loss=49.549 \t val_loss=25.699 \n",
            "Iteration 6 \t loss=47.279 \t val_loss=25.122 \n",
            "Iteration 7 \t loss=45.423 \t val_loss=24.138 \n",
            "Iteration 8 \t loss=43.202 \t val_loss=23.015 \n",
            "Iteration 9 \t loss=33.254 \t val_loss=23.081 \n",
            "Iteration 10 \t loss=31.186 \t val_loss=22.584 \n",
            "Iteration 11 \t loss=38.093 \t val_loss=22.137 \n",
            "Iteration 12 \t loss=27.916 \t val_loss=21.183 \n",
            "Iteration 13 \t loss=29.781 \t val_loss=20.023 \n",
            "Iteration 14 \t loss=26.484 \t val_loss=20.357 \n",
            "Iteration 15 \t loss=26.005 \t val_loss=20.177 \n",
            "Iteration 16 \t loss=23.802 \t val_loss=19.767 \n",
            "Iteration 17 \t loss=22.578 \t val_loss=19.804 \n",
            "Iteration 18 \t loss=21.353 \t val_loss=19.399 \n",
            "Iteration 19 \t loss=22.604 \t val_loss=19.231 \n",
            "Iteration 20 \t loss=20.943 \t val_loss=19.097 \n",
            "Iteration 21 \t loss=22.397 \t val_loss=19.606 \n",
            "Iteration 22 \t loss=19.917 \t val_loss=19.369 \n",
            "Iteration 23 \t loss=21.238 \t val_loss=19.370 \n",
            "Iteration 24 \t loss=20.791 \t val_loss=19.094 \n",
            "Iteration 25 \t loss=19.914 \t val_loss=19.352 \n",
            "Iteration 26 \t loss=20.851 \t val_loss=19.134 \n",
            "Iteration 27 \t loss=19.585 \t val_loss=19.213 \n",
            "Iteration 28 \t loss=19.129 \t val_loss=19.198 \n",
            "Iteration 29 \t loss=19.607 \t val_loss=19.441 \n",
            "Iteration 30 \t loss=19.597 \t val_loss=19.179 \n",
            "Iteration 31 \t loss=19.127 \t val_loss=19.101 \n",
            "Iteration 32 \t loss=19.029 \t val_loss=19.184 \n",
            "Iteration 33 \t loss=18.723 \t val_loss=19.225 \n",
            "Iteration 34 \t loss=19.033 \t val_loss=19.274 \n",
            "Iteration 35 \t loss=18.746 \t val_loss=19.191 \n",
            "Iteration 36 \t loss=18.907 \t val_loss=19.196 \n",
            "Iteration 37 \t loss=19.260 \t val_loss=19.060 \n",
            "Iteration 38 \t loss=18.739 \t val_loss=19.077 \n",
            "Iteration 39 \t loss=19.087 \t val_loss=19.180 \n",
            "Iteration 40 \t loss=18.926 \t val_loss=19.100 \n",
            "Iteration 41 \t loss=19.017 \t val_loss=19.008 \n",
            "Iteration 42 \t loss=18.930 \t val_loss=19.045 \n",
            "Iteration 43 \t loss=18.548 \t val_loss=19.077 \n",
            "Iteration 44 \t loss=18.819 \t val_loss=18.987 \n",
            "Iteration 45 \t loss=18.938 \t val_loss=19.139 \n",
            "Iteration 46 \t loss=19.508 \t val_loss=19.051 \n",
            "Iteration 47 \t loss=18.540 \t val_loss=19.022 \n",
            "Iteration 48 \t loss=18.603 \t val_loss=19.065 \n",
            "Iteration 49 \t loss=18.592 \t val_loss=19.048 \n",
            "Iteration 50 \t loss=18.986 \t val_loss=19.104 \n",
            "Iteration 51 \t loss=18.796 \t val_loss=19.019 \n",
            "Iteration 52 \t loss=19.248 \t val_loss=18.952 \n",
            "Iteration 53 \t loss=19.056 \t val_loss=18.834 \n",
            "Iteration 54 \t loss=18.928 \t val_loss=18.901 \n",
            "Iteration 55 \t loss=18.734 \t val_loss=18.915 \n",
            "Iteration 56 \t loss=18.278 \t val_loss=19.139 \n",
            "Iteration 57 \t loss=18.849 \t val_loss=19.254 \n",
            "Iteration 58 \t loss=18.824 \t val_loss=18.856 \n",
            "Iteration 59 \t loss=19.085 \t val_loss=18.814 \n",
            "Iteration 60 \t loss=18.606 \t val_loss=18.974 \n",
            "Iteration 61 \t loss=18.906 \t val_loss=19.012 \n",
            "Iteration 62 \t loss=19.043 \t val_loss=18.964 \n",
            "Iteration 63 \t loss=18.853 \t val_loss=18.861 \n",
            "Iteration 64 \t loss=19.001 \t val_loss=18.823 \n",
            "Iteration 65 \t loss=18.617 \t val_loss=18.911 \n",
            "Iteration 66 \t loss=18.955 \t val_loss=18.742 \n",
            "Iteration 67 \t loss=18.814 \t val_loss=18.961 \n",
            "Iteration 68 \t loss=18.167 \t val_loss=19.021 \n",
            "Iteration 69 \t loss=18.594 \t val_loss=18.997 \n",
            "Iteration 70 \t loss=19.278 \t val_loss=18.957 \n",
            "Iteration 71 \t loss=19.127 \t val_loss=18.953 \n",
            "Iteration 72 \t loss=18.522 \t val_loss=18.974 \n",
            "Iteration 73 \t loss=18.621 \t val_loss=18.863 \n",
            "Iteration 74 \t loss=18.724 \t val_loss=18.958 \n",
            "Iteration 75 \t loss=18.702 \t val_loss=18.889 \n",
            "Iteration 76 \t loss=18.800 \t val_loss=18.966 \n",
            "Iteration 77 \t loss=18.536 \t val_loss=18.777 \n",
            "Iteration 78 \t loss=18.650 \t val_loss=18.764 \n",
            "Iteration 79 \t loss=18.395 \t val_loss=18.822 \n",
            "Iteration 80 \t loss=18.824 \t val_loss=19.089 \n",
            "Iteration 81 \t loss=18.516 \t val_loss=18.787 \n",
            "Iteration 82 \t loss=18.763 \t val_loss=18.757 \n",
            "Iteration 83 \t loss=18.684 \t val_loss=18.742 \n",
            "Iteration 84 \t loss=18.228 \t val_loss=18.818 \n",
            "Iteration 85 \t loss=18.334 \t val_loss=18.730 \n",
            "Iteration 86 \t loss=18.365 \t val_loss=18.765 \n",
            "Iteration 87 \t loss=18.347 \t val_loss=18.815 \n",
            "Iteration 88 \t loss=18.524 \t val_loss=18.885 \n",
            "Iteration 89 \t loss=18.409 \t val_loss=18.913 \n",
            "Iteration 90 \t loss=18.737 \t val_loss=18.749 \n",
            "Iteration 91 \t loss=18.242 \t val_loss=18.631 \n",
            "Iteration 92 \t loss=18.342 \t val_loss=18.746 \n",
            "Iteration 93 \t loss=18.540 \t val_loss=18.829 \n",
            "Iteration 94 \t loss=18.702 \t val_loss=18.878 \n",
            "Iteration 95 \t loss=19.028 \t val_loss=18.805 \n",
            "Iteration 96 \t loss=18.477 \t val_loss=18.672 \n",
            "Iteration 97 \t loss=18.216 \t val_loss=18.722 \n",
            "Iteration 98 \t loss=18.104 \t val_loss=18.678 \n",
            "Iteration 99 \t loss=18.359 \t val_loss=18.675 \n",
            "Iteration 100 \t loss=18.129 \t val_loss=18.619 \n",
            "Fold -  2\n",
            "Iteration 1 \t loss=19.308 \t val_loss=15.983 \n",
            "Iteration 2 \t loss=18.970 \t val_loss=15.483 \n",
            "Iteration 3 \t loss=19.463 \t val_loss=15.574 \n",
            "Iteration 4 \t loss=19.210 \t val_loss=15.560 \n",
            "Iteration 5 \t loss=19.264 \t val_loss=15.556 \n",
            "Iteration 6 \t loss=19.165 \t val_loss=15.486 \n",
            "Iteration 7 \t loss=19.107 \t val_loss=15.499 \n",
            "Iteration 8 \t loss=19.107 \t val_loss=15.727 \n",
            "Iteration 9 \t loss=19.093 \t val_loss=15.640 \n",
            "Iteration 10 \t loss=19.307 \t val_loss=15.490 \n",
            "Iteration 11 \t loss=19.059 \t val_loss=15.599 \n",
            "Iteration 12 \t loss=19.007 \t val_loss=15.384 \n",
            "Iteration 13 \t loss=18.765 \t val_loss=15.555 \n",
            "Iteration 14 \t loss=18.448 \t val_loss=15.676 \n",
            "Iteration 15 \t loss=18.823 \t val_loss=15.272 \n",
            "Iteration 16 \t loss=18.898 \t val_loss=15.292 \n",
            "Iteration 17 \t loss=18.830 \t val_loss=15.375 \n",
            "Iteration 18 \t loss=19.355 \t val_loss=15.184 \n",
            "Iteration 19 \t loss=18.817 \t val_loss=15.647 \n",
            "Iteration 20 \t loss=18.422 \t val_loss=15.180 \n",
            "Iteration 21 \t loss=18.573 \t val_loss=15.321 \n",
            "Iteration 22 \t loss=18.963 \t val_loss=15.316 \n",
            "Iteration 23 \t loss=18.872 \t val_loss=15.120 \n",
            "Iteration 24 \t loss=18.700 \t val_loss=15.342 \n",
            "Iteration 25 \t loss=18.476 \t val_loss=15.117 \n",
            "Iteration 26 \t loss=18.857 \t val_loss=15.177 \n",
            "Iteration 27 \t loss=18.448 \t val_loss=15.134 \n",
            "Iteration 28 \t loss=18.383 \t val_loss=15.352 \n",
            "Iteration 29 \t loss=18.253 \t val_loss=15.127 \n",
            "Iteration 30 \t loss=18.132 \t val_loss=15.091 \n",
            "Iteration 31 \t loss=18.703 \t val_loss=15.232 \n",
            "Iteration 32 \t loss=18.429 \t val_loss=14.988 \n",
            "Iteration 33 \t loss=18.253 \t val_loss=15.428 \n",
            "Iteration 34 \t loss=18.205 \t val_loss=15.115 \n",
            "Iteration 35 \t loss=18.420 \t val_loss=15.008 \n",
            "Iteration 36 \t loss=18.588 \t val_loss=15.010 \n",
            "Iteration 37 \t loss=18.291 \t val_loss=14.983 \n",
            "Iteration 38 \t loss=18.036 \t val_loss=15.066 \n",
            "Iteration 39 \t loss=18.965 \t val_loss=15.041 \n",
            "Iteration 40 \t loss=18.586 \t val_loss=14.976 \n",
            "Iteration 41 \t loss=18.150 \t val_loss=14.836 \n",
            "Iteration 42 \t loss=18.375 \t val_loss=14.791 \n",
            "Iteration 43 \t loss=17.537 \t val_loss=14.853 \n",
            "Iteration 44 \t loss=17.942 \t val_loss=14.824 \n",
            "Iteration 45 \t loss=17.815 \t val_loss=14.844 \n",
            "Iteration 46 \t loss=17.885 \t val_loss=14.902 \n",
            "Iteration 47 \t loss=17.943 \t val_loss=14.698 \n",
            "Iteration 48 \t loss=18.043 \t val_loss=14.631 \n",
            "Iteration 49 \t loss=18.031 \t val_loss=14.335 \n",
            "Iteration 50 \t loss=17.051 \t val_loss=14.119 \n",
            "Iteration 51 \t loss=18.299 \t val_loss=14.337 \n",
            "Iteration 52 \t loss=17.286 \t val_loss=14.351 \n",
            "Iteration 53 \t loss=17.766 \t val_loss=14.204 \n",
            "Iteration 54 \t loss=17.359 \t val_loss=14.216 \n",
            "Iteration 55 \t loss=17.283 \t val_loss=14.077 \n",
            "Iteration 56 \t loss=17.179 \t val_loss=14.092 \n",
            "Iteration 57 \t loss=17.751 \t val_loss=14.101 \n",
            "Iteration 58 \t loss=17.040 \t val_loss=14.123 \n",
            "Iteration 59 \t loss=16.889 \t val_loss=14.018 \n",
            "Iteration 60 \t loss=16.875 \t val_loss=14.067 \n",
            "Iteration 61 \t loss=17.124 \t val_loss=14.007 \n",
            "Iteration 62 \t loss=17.138 \t val_loss=13.945 \n",
            "Iteration 63 \t loss=17.401 \t val_loss=13.868 \n",
            "Iteration 64 \t loss=17.393 \t val_loss=13.798 \n",
            "Iteration 65 \t loss=16.539 \t val_loss=13.715 \n",
            "Iteration 66 \t loss=16.742 \t val_loss=13.780 \n",
            "Iteration 67 \t loss=17.087 \t val_loss=13.847 \n",
            "Iteration 68 \t loss=17.047 \t val_loss=13.963 \n",
            "Iteration 69 \t loss=17.375 \t val_loss=13.840 \n",
            "Iteration 70 \t loss=17.255 \t val_loss=13.727 \n",
            "Iteration 71 \t loss=16.730 \t val_loss=13.933 \n",
            "Iteration 72 \t loss=16.420 \t val_loss=13.649 \n",
            "Iteration 73 \t loss=17.011 \t val_loss=13.636 \n",
            "Iteration 74 \t loss=16.488 \t val_loss=13.506 \n",
            "Iteration 75 \t loss=16.908 \t val_loss=13.552 \n",
            "Iteration 76 \t loss=16.827 \t val_loss=13.531 \n",
            "Iteration 77 \t loss=16.378 \t val_loss=13.541 \n",
            "Iteration 78 \t loss=17.202 \t val_loss=13.696 \n",
            "Iteration 79 \t loss=16.633 \t val_loss=13.762 \n",
            "Iteration 80 \t loss=16.721 \t val_loss=13.381 \n",
            "Iteration 81 \t loss=16.637 \t val_loss=13.330 \n",
            "Iteration 82 \t loss=17.527 \t val_loss=13.788 \n",
            "Iteration 83 \t loss=16.506 \t val_loss=13.385 \n",
            "Iteration 84 \t loss=16.301 \t val_loss=13.355 \n",
            "Iteration 85 \t loss=16.565 \t val_loss=13.685 \n",
            "Iteration 86 \t loss=16.131 \t val_loss=13.295 \n",
            "Iteration 87 \t loss=17.077 \t val_loss=13.519 \n",
            "Iteration 88 \t loss=16.283 \t val_loss=13.446 \n",
            "Iteration 89 \t loss=16.245 \t val_loss=13.402 \n",
            "Iteration 90 \t loss=17.206 \t val_loss=13.574 \n",
            "Iteration 91 \t loss=16.593 \t val_loss=13.490 \n",
            "Iteration 92 \t loss=17.082 \t val_loss=13.541 \n",
            "Iteration 93 \t loss=15.874 \t val_loss=13.490 \n",
            "Iteration 94 \t loss=16.275 \t val_loss=13.359 \n",
            "Iteration 95 \t loss=16.355 \t val_loss=13.508 \n",
            "Iteration 96 \t loss=16.238 \t val_loss=13.240 \n",
            "Iteration 97 \t loss=15.951 \t val_loss=13.679 \n",
            "Iteration 98 \t loss=15.838 \t val_loss=13.203 \n",
            "Iteration 99 \t loss=16.467 \t val_loss=13.346 \n",
            "Iteration 100 \t loss=15.843 \t val_loss=13.435 \n",
            "Fold -  3\n",
            "Iteration 1 \t loss=17.278 \t val_loss=11.845 \n",
            "Iteration 2 \t loss=17.070 \t val_loss=12.047 \n",
            "Iteration 3 \t loss=16.968 \t val_loss=11.925 \n",
            "Iteration 4 \t loss=16.491 \t val_loss=11.944 \n",
            "Iteration 5 \t loss=16.100 \t val_loss=11.880 \n",
            "Iteration 6 \t loss=16.456 \t val_loss=11.691 \n",
            "Iteration 7 \t loss=16.549 \t val_loss=11.872 \n",
            "Iteration 8 \t loss=16.402 \t val_loss=11.835 \n",
            "Iteration 9 \t loss=16.290 \t val_loss=11.753 \n",
            "Iteration 10 \t loss=16.704 \t val_loss=11.952 \n",
            "Iteration 11 \t loss=16.609 \t val_loss=11.848 \n",
            "Iteration 12 \t loss=16.600 \t val_loss=12.038 \n",
            "Iteration 13 \t loss=16.566 \t val_loss=12.125 \n",
            "Iteration 14 \t loss=16.108 \t val_loss=11.969 \n",
            "Iteration 15 \t loss=15.958 \t val_loss=11.739 \n",
            "Iteration 16 \t loss=15.911 \t val_loss=11.579 \n",
            "Iteration 17 \t loss=16.486 \t val_loss=11.969 \n",
            "Iteration 18 \t loss=16.633 \t val_loss=11.762 \n",
            "Iteration 19 \t loss=16.312 \t val_loss=11.910 \n",
            "Iteration 20 \t loss=15.723 \t val_loss=11.773 \n",
            "Iteration 21 \t loss=16.419 \t val_loss=11.813 \n",
            "Iteration 22 \t loss=16.670 \t val_loss=11.822 \n",
            "Iteration 23 \t loss=16.040 \t val_loss=11.735 \n",
            "Iteration 24 \t loss=16.558 \t val_loss=11.669 \n",
            "Iteration 25 \t loss=15.973 \t val_loss=11.777 \n",
            "Iteration 26 \t loss=15.813 \t val_loss=11.798 \n",
            "Iteration 27 \t loss=15.887 \t val_loss=11.648 \n",
            "Iteration 28 \t loss=16.427 \t val_loss=11.668 \n",
            "Iteration 29 \t loss=15.888 \t val_loss=11.718 \n",
            "Iteration 30 \t loss=15.981 \t val_loss=11.772 \n",
            "Iteration 31 \t loss=16.439 \t val_loss=11.894 \n",
            "Iteration 32 \t loss=16.059 \t val_loss=11.926 \n",
            "Iteration 33 \t loss=15.830 \t val_loss=11.923 \n",
            "Iteration 34 \t loss=15.964 \t val_loss=11.593 \n",
            "Iteration 35 \t loss=15.705 \t val_loss=11.656 \n",
            "Iteration 36 \t loss=15.631 \t val_loss=11.820 \n",
            "Iteration 37 \t loss=15.666 \t val_loss=11.885 \n",
            "Iteration 38 \t loss=15.696 \t val_loss=11.601 \n",
            "Iteration 39 \t loss=15.629 \t val_loss=11.458 \n",
            "Iteration 40 \t loss=15.963 \t val_loss=11.710 \n",
            "Iteration 41 \t loss=16.395 \t val_loss=11.874 \n",
            "Iteration 42 \t loss=15.712 \t val_loss=11.746 \n",
            "Iteration 43 \t loss=15.686 \t val_loss=11.679 \n",
            "Iteration 44 \t loss=15.503 \t val_loss=11.615 \n",
            "Iteration 45 \t loss=15.850 \t val_loss=11.517 \n",
            "Iteration 46 \t loss=15.388 \t val_loss=11.448 \n",
            "Iteration 47 \t loss=15.555 \t val_loss=11.797 \n",
            "Iteration 48 \t loss=16.031 \t val_loss=11.747 \n",
            "Iteration 49 \t loss=15.404 \t val_loss=11.705 \n",
            "Iteration 50 \t loss=15.699 \t val_loss=11.534 \n",
            "Iteration 51 \t loss=15.290 \t val_loss=11.549 \n",
            "Iteration 52 \t loss=16.162 \t val_loss=11.718 \n",
            "Iteration 53 \t loss=15.548 \t val_loss=11.713 \n",
            "Iteration 54 \t loss=15.302 \t val_loss=11.497 \n",
            "Iteration 55 \t loss=15.757 \t val_loss=11.481 \n",
            "Iteration 56 \t loss=15.624 \t val_loss=11.520 \n",
            "Iteration 57 \t loss=15.005 \t val_loss=11.425 \n",
            "Iteration 58 \t loss=15.233 \t val_loss=11.460 \n",
            "Iteration 59 \t loss=15.736 \t val_loss=11.758 \n",
            "Iteration 60 \t loss=15.768 \t val_loss=11.486 \n",
            "Iteration 61 \t loss=15.853 \t val_loss=11.671 \n",
            "Iteration 62 \t loss=15.346 \t val_loss=11.666 \n",
            "Iteration 63 \t loss=15.949 \t val_loss=11.548 \n",
            "Iteration 64 \t loss=15.318 \t val_loss=11.441 \n",
            "Iteration 65 \t loss=15.329 \t val_loss=11.357 \n",
            "Iteration 66 \t loss=15.497 \t val_loss=11.533 \n",
            "Iteration 67 \t loss=15.144 \t val_loss=11.539 \n",
            "Iteration 68 \t loss=15.659 \t val_loss=11.600 \n",
            "Iteration 69 \t loss=15.542 \t val_loss=11.538 \n",
            "Iteration 70 \t loss=15.175 \t val_loss=11.576 \n",
            "Iteration 71 \t loss=15.473 \t val_loss=11.499 \n",
            "Iteration 72 \t loss=15.037 \t val_loss=11.506 \n",
            "Iteration 73 \t loss=15.026 \t val_loss=11.422 \n",
            "Iteration 74 \t loss=15.375 \t val_loss=11.233 \n",
            "Iteration 75 \t loss=15.616 \t val_loss=11.578 \n",
            "Iteration 76 \t loss=15.775 \t val_loss=11.638 \n",
            "Iteration 77 \t loss=15.339 \t val_loss=11.458 \n",
            "Iteration 78 \t loss=15.873 \t val_loss=11.576 \n",
            "Iteration 79 \t loss=15.928 \t val_loss=11.619 \n",
            "Iteration 80 \t loss=15.331 \t val_loss=11.543 \n",
            "Iteration 81 \t loss=15.487 \t val_loss=11.767 \n",
            "Iteration 82 \t loss=14.842 \t val_loss=11.570 \n",
            "Iteration 83 \t loss=15.260 \t val_loss=11.532 \n",
            "Iteration 84 \t loss=15.029 \t val_loss=11.523 \n",
            "Iteration 85 \t loss=14.926 \t val_loss=11.548 \n",
            "Iteration 86 \t loss=15.184 \t val_loss=11.283 \n",
            "Iteration 87 \t loss=15.125 \t val_loss=11.426 \n",
            "Iteration 88 \t loss=15.211 \t val_loss=11.408 \n",
            "Iteration 89 \t loss=15.227 \t val_loss=11.347 \n",
            "Iteration 90 \t loss=15.246 \t val_loss=11.614 \n",
            "Iteration 91 \t loss=15.115 \t val_loss=11.656 \n",
            "Iteration 92 \t loss=15.489 \t val_loss=11.466 \n",
            "Iteration 93 \t loss=15.210 \t val_loss=11.647 \n",
            "Iteration 94 \t loss=15.643 \t val_loss=11.666 \n",
            "Iteration 95 \t loss=15.278 \t val_loss=11.598 \n",
            "Iteration 96 \t loss=15.255 \t val_loss=11.564 \n",
            "Iteration 97 \t loss=15.811 \t val_loss=11.502 \n",
            "Iteration 98 \t loss=15.379 \t val_loss=11.454 \n",
            "Iteration 99 \t loss=15.305 \t val_loss=11.402 \n",
            "Iteration 100 \t loss=15.102 \t val_loss=11.389 \n",
            "Fold -  4\n",
            "Iteration 1 \t loss=14.035 \t val_loss=13.645 \n",
            "Iteration 2 \t loss=14.440 \t val_loss=13.798 \n",
            "Iteration 3 \t loss=14.438 \t val_loss=13.454 \n",
            "Iteration 4 \t loss=15.464 \t val_loss=13.580 \n",
            "Iteration 5 \t loss=14.381 \t val_loss=14.137 \n",
            "Iteration 6 \t loss=14.632 \t val_loss=13.605 \n",
            "Iteration 7 \t loss=14.281 \t val_loss=13.925 \n",
            "Iteration 8 \t loss=14.389 \t val_loss=14.024 \n",
            "Iteration 9 \t loss=14.794 \t val_loss=13.580 \n",
            "Iteration 10 \t loss=14.554 \t val_loss=13.977 \n",
            "Iteration 11 \t loss=14.598 \t val_loss=13.945 \n",
            "Iteration 12 \t loss=14.038 \t val_loss=13.692 \n",
            "Iteration 13 \t loss=14.610 \t val_loss=13.801 \n",
            "Iteration 14 \t loss=14.602 \t val_loss=13.875 \n",
            "Iteration 15 \t loss=14.440 \t val_loss=13.834 \n",
            "Iteration 16 \t loss=14.611 \t val_loss=13.854 \n",
            "Iteration 17 \t loss=14.627 \t val_loss=13.702 \n",
            "Iteration 18 \t loss=14.618 \t val_loss=13.881 \n",
            "Iteration 19 \t loss=14.622 \t val_loss=13.832 \n",
            "Iteration 20 \t loss=14.227 \t val_loss=13.813 \n",
            "Iteration 21 \t loss=14.760 \t val_loss=14.102 \n",
            "Iteration 22 \t loss=14.033 \t val_loss=14.117 \n",
            "Iteration 23 \t loss=14.326 \t val_loss=14.022 \n",
            "Iteration 24 \t loss=13.858 \t val_loss=14.270 \n",
            "Iteration 25 \t loss=14.997 \t val_loss=13.946 \n",
            "Iteration 26 \t loss=14.613 \t val_loss=14.059 \n",
            "Iteration 27 \t loss=14.072 \t val_loss=14.075 \n",
            "Iteration 28 \t loss=14.304 \t val_loss=14.123 \n",
            "Iteration 29 \t loss=14.239 \t val_loss=14.103 \n",
            "Iteration 30 \t loss=14.392 \t val_loss=14.474 \n",
            "Iteration 31 \t loss=14.540 \t val_loss=14.318 \n",
            "Iteration 32 \t loss=14.594 \t val_loss=14.098 \n",
            "Iteration 33 \t loss=13.644 \t val_loss=14.084 \n",
            "Iteration 34 \t loss=14.247 \t val_loss=14.249 \n",
            "Iteration 35 \t loss=14.289 \t val_loss=14.006 \n",
            "Iteration 36 \t loss=13.809 \t val_loss=14.311 \n",
            "Iteration 37 \t loss=14.461 \t val_loss=14.041 \n",
            "Iteration 38 \t loss=13.984 \t val_loss=13.999 \n",
            "Iteration 39 \t loss=13.973 \t val_loss=13.948 \n",
            "Iteration 40 \t loss=14.626 \t val_loss=13.989 \n",
            "Iteration 41 \t loss=14.587 \t val_loss=13.916 \n",
            "Iteration 42 \t loss=14.651 \t val_loss=13.892 \n",
            "Iteration 43 \t loss=14.543 \t val_loss=14.171 \n",
            "Iteration 44 \t loss=14.226 \t val_loss=13.850 \n",
            "Iteration 45 \t loss=14.571 \t val_loss=13.953 \n",
            "Iteration 46 \t loss=14.184 \t val_loss=13.743 \n",
            "Iteration 47 \t loss=13.998 \t val_loss=13.901 \n",
            "Iteration 48 \t loss=14.599 \t val_loss=14.188 \n",
            "Iteration 49 \t loss=14.940 \t val_loss=13.935 \n",
            "Iteration 50 \t loss=14.745 \t val_loss=13.748 \n",
            "Iteration 51 \t loss=14.221 \t val_loss=14.024 \n",
            "Iteration 52 \t loss=15.213 \t val_loss=13.812 \n",
            "Iteration 53 \t loss=14.034 \t val_loss=13.801 \n",
            "Iteration 54 \t loss=13.824 \t val_loss=14.019 \n",
            "Iteration 55 \t loss=13.876 \t val_loss=13.850 \n",
            "Iteration 56 \t loss=14.196 \t val_loss=13.752 \n",
            "Iteration 57 \t loss=14.022 \t val_loss=13.977 \n",
            "Iteration 58 \t loss=14.975 \t val_loss=14.235 \n",
            "Iteration 59 \t loss=14.095 \t val_loss=13.757 \n",
            "Iteration 60 \t loss=14.434 \t val_loss=13.928 \n",
            "Iteration 61 \t loss=14.166 \t val_loss=13.923 \n",
            "Iteration 62 \t loss=14.613 \t val_loss=13.865 \n",
            "Iteration 63 \t loss=13.903 \t val_loss=13.985 \n",
            "Iteration 64 \t loss=14.580 \t val_loss=13.910 \n",
            "Iteration 65 \t loss=14.072 \t val_loss=13.958 \n",
            "Iteration 66 \t loss=14.501 \t val_loss=14.123 \n",
            "Iteration 67 \t loss=14.460 \t val_loss=14.258 \n",
            "Iteration 68 \t loss=14.294 \t val_loss=13.821 \n",
            "Iteration 69 \t loss=13.987 \t val_loss=13.790 \n",
            "Iteration 70 \t loss=14.659 \t val_loss=13.812 \n",
            "Iteration 71 \t loss=14.398 \t val_loss=13.879 \n",
            "Iteration 72 \t loss=14.037 \t val_loss=13.896 \n",
            "Iteration 73 \t loss=14.288 \t val_loss=13.987 \n",
            "Iteration 74 \t loss=14.102 \t val_loss=13.925 \n",
            "Iteration 75 \t loss=14.111 \t val_loss=13.829 \n",
            "Iteration 76 \t loss=13.966 \t val_loss=13.923 \n",
            "Iteration 77 \t loss=14.414 \t val_loss=13.968 \n",
            "Iteration 78 \t loss=14.669 \t val_loss=14.114 \n",
            "Iteration 79 \t loss=14.360 \t val_loss=14.284 \n",
            "Iteration 80 \t loss=13.662 \t val_loss=14.114 \n",
            "Iteration 81 \t loss=14.086 \t val_loss=14.133 \n",
            "Iteration 82 \t loss=13.971 \t val_loss=13.918 \n",
            "Iteration 83 \t loss=14.335 \t val_loss=13.853 \n",
            "Iteration 84 \t loss=14.221 \t val_loss=13.913 \n",
            "Iteration 85 \t loss=14.289 \t val_loss=13.760 \n",
            "Iteration 86 \t loss=14.269 \t val_loss=13.592 \n",
            "Iteration 87 \t loss=14.076 \t val_loss=13.655 \n",
            "Iteration 88 \t loss=14.410 \t val_loss=13.978 \n",
            "Iteration 89 \t loss=14.418 \t val_loss=14.075 \n",
            "Iteration 90 \t loss=14.100 \t val_loss=14.039 \n",
            "Iteration 91 \t loss=14.199 \t val_loss=13.981 \n",
            "Iteration 92 \t loss=14.197 \t val_loss=14.043 \n",
            "Iteration 93 \t loss=14.010 \t val_loss=14.017 \n",
            "Iteration 94 \t loss=14.268 \t val_loss=13.913 \n",
            "Iteration 95 \t loss=14.177 \t val_loss=13.838 \n",
            "Iteration 96 \t loss=14.499 \t val_loss=13.829 \n",
            "Iteration 97 \t loss=14.306 \t val_loss=13.736 \n",
            "Iteration 98 \t loss=14.604 \t val_loss=13.764 \n",
            "Iteration 99 \t loss=14.548 \t val_loss=13.871 \n",
            "Iteration 100 \t loss=14.357 \t val_loss=13.681 \n",
            "Fold -  5\n",
            "Iteration 1 \t loss=15.087 \t val_loss=11.857 \n",
            "Iteration 2 \t loss=14.791 \t val_loss=12.021 \n",
            "Iteration 3 \t loss=14.545 \t val_loss=12.386 \n",
            "Iteration 4 \t loss=14.617 \t val_loss=11.907 \n",
            "Iteration 5 \t loss=14.583 \t val_loss=12.117 \n",
            "Iteration 6 \t loss=14.532 \t val_loss=11.974 \n",
            "Iteration 7 \t loss=14.258 \t val_loss=12.037 \n",
            "Iteration 8 \t loss=14.570 \t val_loss=12.012 \n",
            "Iteration 9 \t loss=14.643 \t val_loss=11.783 \n",
            "Iteration 10 \t loss=14.181 \t val_loss=12.097 \n",
            "Iteration 11 \t loss=14.398 \t val_loss=11.940 \n",
            "Iteration 12 \t loss=14.617 \t val_loss=11.825 \n",
            "Iteration 13 \t loss=14.800 \t val_loss=11.847 \n",
            "Iteration 14 \t loss=14.512 \t val_loss=12.462 \n",
            "Iteration 15 \t loss=14.428 \t val_loss=11.944 \n",
            "Iteration 16 \t loss=14.904 \t val_loss=11.958 \n",
            "Iteration 17 \t loss=14.698 \t val_loss=11.870 \n",
            "Iteration 18 \t loss=14.914 \t val_loss=12.103 \n",
            "Iteration 19 \t loss=14.817 \t val_loss=11.937 \n",
            "Iteration 20 \t loss=14.566 \t val_loss=12.052 \n",
            "Iteration 21 \t loss=14.585 \t val_loss=11.979 \n",
            "Iteration 22 \t loss=14.540 \t val_loss=12.139 \n",
            "Iteration 23 \t loss=14.900 \t val_loss=12.327 \n",
            "Iteration 24 \t loss=14.274 \t val_loss=11.855 \n",
            "Iteration 25 \t loss=14.542 \t val_loss=12.207 \n",
            "Iteration 26 \t loss=14.785 \t val_loss=12.028 \n",
            "Iteration 27 \t loss=14.476 \t val_loss=11.956 \n",
            "Iteration 28 \t loss=14.631 \t val_loss=12.201 \n",
            "Iteration 29 \t loss=14.596 \t val_loss=12.284 \n",
            "Iteration 30 \t loss=14.947 \t val_loss=11.944 \n",
            "Iteration 31 \t loss=14.880 \t val_loss=12.063 \n",
            "Iteration 32 \t loss=14.677 \t val_loss=12.043 \n",
            "Iteration 33 \t loss=14.317 \t val_loss=11.982 \n",
            "Iteration 34 \t loss=14.600 \t val_loss=12.223 \n",
            "Iteration 35 \t loss=14.618 \t val_loss=12.064 \n",
            "Iteration 36 \t loss=14.530 \t val_loss=12.058 \n",
            "Iteration 37 \t loss=14.324 \t val_loss=11.930 \n",
            "Iteration 38 \t loss=14.743 \t val_loss=12.248 \n",
            "Iteration 39 \t loss=14.313 \t val_loss=12.412 \n",
            "Iteration 40 \t loss=14.782 \t val_loss=12.368 \n",
            "Iteration 41 \t loss=14.532 \t val_loss=11.950 \n",
            "Iteration 42 \t loss=14.256 \t val_loss=12.209 \n",
            "Iteration 43 \t loss=14.382 \t val_loss=12.008 \n",
            "Iteration 44 \t loss=14.305 \t val_loss=12.219 \n",
            "Iteration 45 \t loss=14.442 \t val_loss=12.139 \n",
            "Iteration 46 \t loss=14.344 \t val_loss=12.060 \n",
            "Iteration 47 \t loss=14.418 \t val_loss=12.291 \n",
            "Iteration 48 \t loss=14.502 \t val_loss=12.169 \n",
            "Iteration 49 \t loss=14.209 \t val_loss=12.055 \n",
            "Iteration 50 \t loss=14.824 \t val_loss=12.243 \n",
            "Iteration 51 \t loss=14.211 \t val_loss=12.096 \n",
            "Iteration 52 \t loss=14.326 \t val_loss=12.018 \n",
            "Iteration 53 \t loss=14.526 \t val_loss=12.260 \n",
            "Iteration 54 \t loss=14.193 \t val_loss=12.089 \n",
            "Iteration 55 \t loss=14.769 \t val_loss=12.079 \n",
            "Iteration 56 \t loss=15.177 \t val_loss=12.080 \n",
            "Iteration 57 \t loss=14.541 \t val_loss=12.047 \n",
            "Iteration 58 \t loss=14.791 \t val_loss=12.591 \n",
            "Iteration 59 \t loss=14.491 \t val_loss=12.111 \n",
            "Iteration 60 \t loss=15.088 \t val_loss=12.049 \n",
            "Iteration 61 \t loss=14.570 \t val_loss=12.259 \n",
            "Iteration 62 \t loss=14.422 \t val_loss=12.167 \n",
            "Iteration 63 \t loss=14.476 \t val_loss=12.406 \n",
            "Iteration 64 \t loss=14.679 \t val_loss=12.306 \n",
            "Iteration 65 \t loss=14.635 \t val_loss=12.031 \n",
            "Iteration 66 \t loss=14.221 \t val_loss=12.224 \n",
            "Iteration 67 \t loss=14.240 \t val_loss=12.120 \n",
            "Iteration 68 \t loss=14.437 \t val_loss=11.947 \n",
            "Iteration 69 \t loss=14.344 \t val_loss=12.303 \n",
            "Iteration 70 \t loss=14.608 \t val_loss=12.011 \n",
            "Iteration 71 \t loss=14.269 \t val_loss=12.174 \n",
            "Iteration 72 \t loss=15.186 \t val_loss=12.294 \n",
            "Iteration 73 \t loss=14.767 \t val_loss=12.497 \n",
            "Iteration 74 \t loss=14.115 \t val_loss=11.994 \n",
            "Iteration 75 \t loss=14.150 \t val_loss=12.391 \n",
            "Iteration 76 \t loss=14.262 \t val_loss=12.139 \n",
            "Iteration 77 \t loss=14.310 \t val_loss=12.093 \n",
            "Iteration 78 \t loss=14.215 \t val_loss=12.176 \n",
            "Iteration 79 \t loss=13.711 \t val_loss=12.280 \n",
            "Iteration 80 \t loss=14.692 \t val_loss=12.058 \n",
            "Iteration 81 \t loss=14.023 \t val_loss=12.051 \n",
            "Iteration 82 \t loss=14.330 \t val_loss=11.984 \n",
            "Iteration 83 \t loss=14.850 \t val_loss=12.052 \n",
            "Iteration 84 \t loss=15.211 \t val_loss=12.170 \n",
            "Iteration 85 \t loss=14.524 \t val_loss=12.022 \n",
            "Iteration 86 \t loss=14.276 \t val_loss=11.990 \n",
            "Iteration 87 \t loss=14.732 \t val_loss=12.254 \n",
            "Iteration 88 \t loss=14.535 \t val_loss=12.100 \n",
            "Iteration 89 \t loss=14.119 \t val_loss=12.487 \n",
            "Iteration 90 \t loss=14.249 \t val_loss=12.629 \n",
            "Iteration 91 \t loss=14.699 \t val_loss=12.105 \n",
            "Iteration 92 \t loss=13.919 \t val_loss=11.954 \n",
            "Iteration 93 \t loss=14.693 \t val_loss=11.859 \n",
            "Iteration 94 \t loss=14.117 \t val_loss=12.241 \n",
            "Iteration 95 \t loss=14.898 \t val_loss=12.231 \n",
            "Iteration 96 \t loss=14.610 \t val_loss=12.185 \n",
            "Iteration 97 \t loss=14.133 \t val_loss=12.105 \n",
            "Iteration 98 \t loss=14.238 \t val_loss=12.325 \n",
            "Iteration 99 \t loss=14.427 \t val_loss=12.035 \n",
            "Iteration 100 \t loss=14.053 \t val_loss=12.126 \n"
          ]
        }
      ]
    },
    {
      "cell_type": "code",
      "metadata": {
        "id": "ZiLjt3hKjSsV",
        "colab": {
          "base_uri": "https://localhost:8080/"
        },
        "outputId": "fdc02178-0487-4431-e316-c319839eea66"
      },
      "source": [
        "best_threshold = 0\n",
        "best_score = 0\n",
        "\n",
        "for threshold in tqdm([i * 0.01 for i in range(100)]):\n",
        "  score = accuracy_score(y_true=Y_train, y_pred=train_preds > threshold)\n",
        "  if score > best_score:\n",
        "    best_threshold = threshold\n",
        "    best_score = score\n",
        "\n",
        "#search_result = {'Threshold': best_threshold, 'Accuracy': best_score}\n",
        "print(\"Accuracy: {} \\t Threshold: {}\".format(best_score, best_threshold))"
      ],
      "execution_count": null,
      "outputs": [
        {
          "output_type": "stream",
          "name": "stderr",
          "text": [
            "100%|██████████| 100/100 [00:00<00:00, 2832.52it/s]"
          ]
        },
        {
          "output_type": "stream",
          "name": "stdout",
          "text": [
            "Accuracy: 0.7710674157303371 \t Threshold: 0.45\n"
          ]
        },
        {
          "output_type": "stream",
          "name": "stderr",
          "text": [
            "\n"
          ]
        }
      ]
    },
    {
      "cell_type": "code",
      "metadata": {
        "colab": {
          "base_uri": "https://localhost:8080/"
        },
        "id": "VC-SQfkyonA7",
        "outputId": "33bea023-ed11-4f42-b1d8-9f92e81d7dbc"
      },
      "source": [
        "epoch_acc = {}\n",
        "\n",
        "for count_itrs in range(100, 1100, 100):\n",
        "  print(\"Running for {} epochs\".format(count_itrs))\n",
        "\n",
        "  for i_fold, (train_idx, valid_idx) in enumerate(splits):\n",
        "    X_train_fold = torch.tensor(X_train[train_idx], dtype=torch.float32).cuda()\n",
        "    Y_train_fold = torch.tensor(Y_train[train_idx], dtype=torch.float32).unsqueeze(1).cuda()\n",
        "    X_val_fold = torch.tensor(X_train[valid_idx], dtype=torch.float32).cuda()\n",
        "    Y_val_fold = torch.tensor(Y_train[valid_idx], dtype=torch.float32).unsqueeze(1).cuda()\n",
        "\n",
        "    train = torch.utils.data.TensorDataset(X_train_fold, Y_train_fold)\n",
        "    valid = torch.utils.data.TensorDataset(X_val_fold, Y_val_fold)\n",
        "\n",
        "    trainloader = torch.utils.data.DataLoader(train, batch_size=batch_size, shuffle=True)\n",
        "    validloader = torch.utils.data.DataLoader(valid, batch_size=batch_size, shuffle=False)\n",
        "\n",
        "    model = NN_class\n",
        "    NN_class.cuda()\n",
        "    loss = torch.nn.BCEWithLogitsLoss(reduction=\"sum\")\n",
        "    op = torch.optim.Adam(model.parameters())\n",
        "\n",
        "    print(\"\\t Fold - \", i_fold+1)\n",
        "    \n",
        "    for itr in range(count_itrs):\n",
        "      model.train()\n",
        "      avg_loss = 0\n",
        "\n",
        "      for x_batch, y_batch in tqdm(trainloader, disable=True):\n",
        "        Y_pred = model(x_batch)\n",
        "        loss_batch = loss(Y_pred, y_batch)\n",
        "        op.zero_grad()\n",
        "        loss_batch.backward()\n",
        "        op.step()\n",
        "        avg_loss += loss_batch.item() / len(trainloader)\n",
        "\n",
        "      model.eval()\n",
        "      valid_pred_fold = np.zeros(X_val_fold.size(0))\n",
        "      test_pred_fold = np.zeros(len(X_test))\n",
        "      avg_val_loss = 0\n",
        "      for i, (x_batch, y_batch) in enumerate(validloader):\n",
        "        Y_pred = model(x_batch).detach()\n",
        "        avg_val_loss += loss(Y_pred, y_batch).item() / len(validloader)\n",
        "        valid_pred_fold[i * batch_size: (i+1) * batch_size] = (1 / (1+np.exp(-(Y_pred.cpu().numpy()))))[:, 0]\n",
        "\n",
        "    for i, (x_batch,) in enumerate(testloader):\n",
        "      Y_pred = model(x_batch).detach()\n",
        "      test_pred_fold[i * batch_size: (i+1) * batch_size] = (1 / (1+np.exp(-(Y_pred.cpu().numpy()))))[:, 0]\n",
        "\n",
        "    train_preds[valid_idx] = valid_pred_fold\n",
        "    test_preds += test_pred_fold / len(splits)\n",
        "\n",
        "  best_threshold = 0\n",
        "  best_score = 0\n",
        "\n",
        "  for threshold in tqdm([i * 0.01 for i in range(100)]):\n",
        "    score = accuracy_score(y_true=Y_train, y_pred=train_preds > threshold)\n",
        "    if score > best_score:\n",
        "      best_threshold = threshold\n",
        "      best_score = score\n",
        "\n",
        "  epoch_acc[count_itrs] = best_score\n",
        "  #search_result = {'Threshold': best_threshold, 'Accuracy': best_score}\n",
        "  print(\"Accuracy: {} \\t Threshold: {}\".format(best_score, best_threshold))"
      ],
      "execution_count": null,
      "outputs": [
        {
          "output_type": "stream",
          "name": "stdout",
          "text": [
            "Running for 100 epochs\n",
            "\t Fold -  1\n"
          ]
        },
        {
          "output_type": "stream",
          "name": "stderr",
          "text": [
            "/usr/local/lib/python3.7/dist-packages/ipykernel_launcher.py:48: RuntimeWarning: overflow encountered in exp\n"
          ]
        },
        {
          "output_type": "stream",
          "name": "stdout",
          "text": [
            "\t Fold -  2\n",
            "\t Fold -  3\n",
            "\t Fold -  4\n",
            "\t Fold -  5\n"
          ]
        },
        {
          "output_type": "stream",
          "name": "stderr",
          "text": [
            "100%|██████████| 100/100 [00:00<00:00, 3516.79it/s]\n"
          ]
        },
        {
          "output_type": "stream",
          "name": "stdout",
          "text": [
            "Accuracy: 0.8426966292134831 \t Threshold: 0.43\n",
            "Running for 200 epochs\n",
            "\t Fold -  1\n"
          ]
        },
        {
          "output_type": "stream",
          "name": "stderr",
          "text": [
            "/usr/local/lib/python3.7/dist-packages/ipykernel_launcher.py:48: RuntimeWarning: overflow encountered in exp\n"
          ]
        },
        {
          "output_type": "stream",
          "name": "stdout",
          "text": [
            "\t Fold -  2\n",
            "\t Fold -  3\n",
            "\t Fold -  4\n",
            "\t Fold -  5\n"
          ]
        },
        {
          "output_type": "stream",
          "name": "stderr",
          "text": [
            "100%|██████████| 100/100 [00:00<00:00, 3385.94it/s]\n"
          ]
        },
        {
          "output_type": "stream",
          "name": "stdout",
          "text": [
            "Accuracy: 0.8258426966292135 \t Threshold: 0.41000000000000003\n",
            "Running for 300 epochs\n",
            "\t Fold -  1\n"
          ]
        },
        {
          "output_type": "stream",
          "name": "stderr",
          "text": [
            "/usr/local/lib/python3.7/dist-packages/ipykernel_launcher.py:48: RuntimeWarning: overflow encountered in exp\n"
          ]
        },
        {
          "output_type": "stream",
          "name": "stdout",
          "text": [
            "\t Fold -  2\n",
            "\t Fold -  3\n",
            "\t Fold -  4\n",
            "\t Fold -  5\n"
          ]
        },
        {
          "output_type": "stream",
          "name": "stderr",
          "text": [
            "100%|██████████| 100/100 [00:00<00:00, 3474.21it/s]\n"
          ]
        },
        {
          "output_type": "stream",
          "name": "stdout",
          "text": [
            "Accuracy: 0.8314606741573034 \t Threshold: 0.44\n",
            "Running for 400 epochs\n",
            "\t Fold -  1\n"
          ]
        },
        {
          "output_type": "stream",
          "name": "stderr",
          "text": [
            "/usr/local/lib/python3.7/dist-packages/ipykernel_launcher.py:48: RuntimeWarning: overflow encountered in exp\n"
          ]
        },
        {
          "output_type": "stream",
          "name": "stdout",
          "text": [
            "\t Fold -  2\n",
            "\t Fold -  3\n"
          ]
        },
        {
          "output_type": "stream",
          "name": "stderr",
          "text": [
            "/usr/local/lib/python3.7/dist-packages/ipykernel_launcher.py:44: RuntimeWarning: overflow encountered in exp\n"
          ]
        },
        {
          "output_type": "stream",
          "name": "stdout",
          "text": [
            "\t Fold -  4\n",
            "\t Fold -  5\n"
          ]
        },
        {
          "output_type": "stream",
          "name": "stderr",
          "text": [
            "100%|██████████| 100/100 [00:00<00:00, 3154.54it/s]\n"
          ]
        },
        {
          "output_type": "stream",
          "name": "stdout",
          "text": [
            "Accuracy: 0.8342696629213483 \t Threshold: 0.45\n",
            "Running for 500 epochs\n",
            "\t Fold -  1\n"
          ]
        },
        {
          "output_type": "stream",
          "name": "stderr",
          "text": [
            "/usr/local/lib/python3.7/dist-packages/ipykernel_launcher.py:48: RuntimeWarning: overflow encountered in exp\n"
          ]
        },
        {
          "output_type": "stream",
          "name": "stdout",
          "text": [
            "\t Fold -  2\n",
            "\t Fold -  3\n",
            "\t Fold -  4\n",
            "\t Fold -  5\n"
          ]
        },
        {
          "output_type": "stream",
          "name": "stderr",
          "text": [
            "100%|██████████| 100/100 [00:00<00:00, 3398.56it/s]\n"
          ]
        },
        {
          "output_type": "stream",
          "name": "stdout",
          "text": [
            "Accuracy: 0.827247191011236 \t Threshold: 0.43\n",
            "Running for 600 epochs\n",
            "\t Fold -  1\n"
          ]
        },
        {
          "output_type": "stream",
          "name": "stderr",
          "text": [
            "/usr/local/lib/python3.7/dist-packages/ipykernel_launcher.py:48: RuntimeWarning: overflow encountered in exp\n"
          ]
        },
        {
          "output_type": "stream",
          "name": "stdout",
          "text": [
            "\t Fold -  2\n",
            "\t Fold -  3\n"
          ]
        },
        {
          "output_type": "stream",
          "name": "stderr",
          "text": [
            "/usr/local/lib/python3.7/dist-packages/ipykernel_launcher.py:44: RuntimeWarning: overflow encountered in exp\n"
          ]
        },
        {
          "output_type": "stream",
          "name": "stdout",
          "text": [
            "\t Fold -  4\n",
            "\t Fold -  5\n"
          ]
        },
        {
          "output_type": "stream",
          "name": "stderr",
          "text": [
            "100%|██████████| 100/100 [00:00<00:00, 3080.38it/s]\n"
          ]
        },
        {
          "output_type": "stream",
          "name": "stdout",
          "text": [
            "Accuracy: 0.8258426966292135 \t Threshold: 0.45\n",
            "Running for 700 epochs\n",
            "\t Fold -  1\n"
          ]
        },
        {
          "output_type": "stream",
          "name": "stderr",
          "text": [
            "/usr/local/lib/python3.7/dist-packages/ipykernel_launcher.py:48: RuntimeWarning: overflow encountered in exp\n"
          ]
        },
        {
          "output_type": "stream",
          "name": "stdout",
          "text": [
            "\t Fold -  2\n",
            "\t Fold -  3\n"
          ]
        },
        {
          "output_type": "stream",
          "name": "stderr",
          "text": [
            "/usr/local/lib/python3.7/dist-packages/ipykernel_launcher.py:44: RuntimeWarning: overflow encountered in exp\n"
          ]
        },
        {
          "output_type": "stream",
          "name": "stdout",
          "text": [
            "\t Fold -  4\n",
            "\t Fold -  5\n"
          ]
        },
        {
          "output_type": "stream",
          "name": "stderr",
          "text": [
            "100%|██████████| 100/100 [00:00<00:00, 2917.49it/s]\n"
          ]
        },
        {
          "output_type": "stream",
          "name": "stdout",
          "text": [
            "Accuracy: 0.8230337078651685 \t Threshold: 0.45\n",
            "Running for 800 epochs\n",
            "\t Fold -  1\n"
          ]
        },
        {
          "output_type": "stream",
          "name": "stderr",
          "text": [
            "/usr/local/lib/python3.7/dist-packages/ipykernel_launcher.py:48: RuntimeWarning: overflow encountered in exp\n"
          ]
        },
        {
          "output_type": "stream",
          "name": "stdout",
          "text": [
            "\t Fold -  2\n",
            "\t Fold -  3\n"
          ]
        },
        {
          "output_type": "stream",
          "name": "stderr",
          "text": [
            "/usr/local/lib/python3.7/dist-packages/ipykernel_launcher.py:44: RuntimeWarning: overflow encountered in exp\n"
          ]
        },
        {
          "output_type": "stream",
          "name": "stdout",
          "text": [
            "\t Fold -  4\n",
            "\t Fold -  5\n"
          ]
        },
        {
          "output_type": "stream",
          "name": "stderr",
          "text": [
            "100%|██████████| 100/100 [00:00<00:00, 3629.30it/s]\n"
          ]
        },
        {
          "output_type": "stream",
          "name": "stdout",
          "text": [
            "Accuracy: 0.827247191011236 \t Threshold: 0.43\n",
            "Running for 900 epochs\n",
            "\t Fold -  1\n"
          ]
        },
        {
          "output_type": "stream",
          "name": "stderr",
          "text": [
            "/usr/local/lib/python3.7/dist-packages/ipykernel_launcher.py:48: RuntimeWarning: overflow encountered in exp\n"
          ]
        },
        {
          "output_type": "stream",
          "name": "stdout",
          "text": [
            "\t Fold -  2\n",
            "\t Fold -  3\n"
          ]
        },
        {
          "output_type": "stream",
          "name": "stderr",
          "text": [
            "/usr/local/lib/python3.7/dist-packages/ipykernel_launcher.py:44: RuntimeWarning: overflow encountered in exp\n"
          ]
        },
        {
          "output_type": "stream",
          "name": "stdout",
          "text": [
            "\t Fold -  4\n",
            "\t Fold -  5\n"
          ]
        },
        {
          "output_type": "stream",
          "name": "stderr",
          "text": [
            "100%|██████████| 100/100 [00:00<00:00, 3473.20it/s]\n"
          ]
        },
        {
          "output_type": "stream",
          "name": "stdout",
          "text": [
            "Accuracy: 0.8258426966292135 \t Threshold: 0.47000000000000003\n",
            "Running for 1000 epochs\n",
            "\t Fold -  1\n"
          ]
        },
        {
          "output_type": "stream",
          "name": "stderr",
          "text": [
            "/usr/local/lib/python3.7/dist-packages/ipykernel_launcher.py:48: RuntimeWarning: overflow encountered in exp\n"
          ]
        },
        {
          "output_type": "stream",
          "name": "stdout",
          "text": [
            "\t Fold -  2\n"
          ]
        },
        {
          "output_type": "stream",
          "name": "stderr",
          "text": [
            "/usr/local/lib/python3.7/dist-packages/ipykernel_launcher.py:44: RuntimeWarning: overflow encountered in exp\n"
          ]
        },
        {
          "output_type": "stream",
          "name": "stdout",
          "text": [
            "\t Fold -  3\n",
            "\t Fold -  4\n",
            "\t Fold -  5\n"
          ]
        },
        {
          "output_type": "stream",
          "name": "stderr",
          "text": [
            "100%|██████████| 100/100 [00:00<00:00, 3651.54it/s]"
          ]
        },
        {
          "output_type": "stream",
          "name": "stdout",
          "text": [
            "Accuracy: 0.824438202247191 \t Threshold: 0.43\n"
          ]
        },
        {
          "output_type": "stream",
          "name": "stderr",
          "text": [
            "\n"
          ]
        }
      ]
    },
    {
      "cell_type": "code",
      "metadata": {
        "colab": {
          "base_uri": "https://localhost:8080/",
          "height": 313
        },
        "id": "LTak3Aodr25s",
        "outputId": "a6366adf-a372-4289-e0e2-51a256bbba06"
      },
      "source": [
        "plot_x = []\n",
        "plot_y = []\n",
        "for key in epoch_acc.keys():\n",
        "  plot_x.append(key)\n",
        "\n",
        "for value in epoch_acc.values():\n",
        "  plot_y.append(value)\n",
        "\n",
        "plt.figure(2)\n",
        "plt.plot(plot_x, plot_y)\n",
        "plt.title('Accuracy for different epochs')\n",
        "plt.xlabel('Number of epochs')\n",
        "plt.ylabel('Accuracy')"
      ],
      "execution_count": null,
      "outputs": [
        {
          "output_type": "execute_result",
          "data": {
            "text/plain": [
              "Text(0, 0.5, 'Accuracy')"
            ]
          },
          "metadata": {},
          "execution_count": 35
        },
        {
          "output_type": "display_data",
          "data": {
            "image/png": "[encoded data removed]",
            "text/plain": [
              "<Figure size 432x288 with 1 Axes>"
            ]
          },
          "metadata": {
            "needs_background": "light"
          }
        }
      ]
    }
  ]
}